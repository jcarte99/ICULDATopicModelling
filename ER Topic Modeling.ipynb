{
 "cells": [
  {
   "cell_type": "code",
   "execution_count": 1,
   "metadata": {},
   "outputs": [],
   "source": [
    "import sys\n",
    "import re \n",
    "import numpy as np \n",
    "import pandas as pd \n",
    "from pprint import pprint"
   ]
  },
  {
   "cell_type": "code",
   "execution_count": 2,
   "metadata": {},
   "outputs": [],
   "source": [
    "import gensim, spacy, logging, warnings"
   ]
  },
  {
   "cell_type": "code",
   "execution_count": 3,
   "metadata": {},
   "outputs": [],
   "source": [
    "import gensim.corpora as corpora\n",
    "from gensim.utils import simple_preprocess\n",
    "from gensim.models import CoherenceModel\n",
    "import matplotlib.pyplot as plt"
   ]
  },
  {
   "cell_type": "code",
   "execution_count": 4,
   "metadata": {},
   "outputs": [],
   "source": [
    "from nltk.corpus import stopwords\n",
    "stop_words = stopwords.words ('english')"
   ]
  },
  {
   "cell_type": "code",
   "execution_count": 5,
   "metadata": {},
   "outputs": [],
   "source": [
    "stop_words.extend(['from', 'to', 'subject', 're', 'edu', 'use', 'not', 'would', 'say', 'could', '_', 'be', 'know', 'good', 'go', 'get', 'do', 'done', 'try', 'many', 'na', 'some', 'nice', 'thank', 'think', 'see', 'rather', 'easy', 'easily', 'lot', 'lack', 'make', 'want', 'seem', 'run', 'need', 'even', 'right', 'line', 'even', 'also', 'may', 'take', 'come', 'br', 'sub', 'mech','non'])"
   ]
  },
  {
   "cell_type": "code",
   "execution_count": 6,
   "metadata": {},
   "outputs": [],
   "source": [
    "%matplotlib inline\n",
    "warnings.filterwarnings(\"ignore\",category=DeprecationWarning)\n",
    "logging.basicConfig(format='%(asctime)s : %(levelname)s : %(message)s', level=logging.ERROR)"
   ]
  },
  {
   "cell_type": "code",
   "execution_count": 7,
   "metadata": {},
   "outputs": [
    {
     "name": "stdout",
     "output_type": "stream",
     "text": [
      "(58976, 28)\n"
     ]
    },
    {
     "data": {
      "text/html": [
       "<div>\n",
       "<style scoped>\n",
       "    .dataframe tbody tr th:only-of-type {\n",
       "        vertical-align: middle;\n",
       "    }\n",
       "\n",
       "    .dataframe tbody tr th {\n",
       "        vertical-align: top;\n",
       "    }\n",
       "\n",
       "    .dataframe thead th {\n",
       "        text-align: right;\n",
       "    }\n",
       "</style>\n",
       "<table border=\"1\" class=\"dataframe\">\n",
       "  <thead>\n",
       "    <tr style=\"text-align: right;\">\n",
       "      <th></th>\n",
       "      <th>hadm_id</th>\n",
       "      <th>gender</th>\n",
       "      <th>age</th>\n",
       "      <th>LOSdays</th>\n",
       "      <th>admit_type</th>\n",
       "      <th>admit_location</th>\n",
       "      <th>AdmitDiagnosis</th>\n",
       "      <th>insurance</th>\n",
       "      <th>religion</th>\n",
       "      <th>marital_status</th>\n",
       "      <th>...</th>\n",
       "      <th>NumMicroLabs</th>\n",
       "      <th>NumNotes</th>\n",
       "      <th>NumOutput</th>\n",
       "      <th>NumRx</th>\n",
       "      <th>NumProcEvents</th>\n",
       "      <th>NumTransfers</th>\n",
       "      <th>NumChartEvents</th>\n",
       "      <th>ExpiredHospital</th>\n",
       "      <th>TotalNumInteract</th>\n",
       "      <th>LOSgroupNum</th>\n",
       "    </tr>\n",
       "  </thead>\n",
       "  <tbody>\n",
       "    <tr>\n",
       "      <th>0</th>\n",
       "      <td>100001</td>\n",
       "      <td>F</td>\n",
       "      <td>35</td>\n",
       "      <td>6.17</td>\n",
       "      <td>EMERGENCY</td>\n",
       "      <td>CLINIC REFERRAL/PREMATURE</td>\n",
       "      <td>DIABETIC KETOACIDOSIS</td>\n",
       "      <td>Private</td>\n",
       "      <td>PROTESTANT QUAKER</td>\n",
       "      <td>DIVORCED</td>\n",
       "      <td>...</td>\n",
       "      <td>0.65</td>\n",
       "      <td>0.05</td>\n",
       "      <td>5.19</td>\n",
       "      <td>14.91</td>\n",
       "      <td>1.13</td>\n",
       "      <td>0.65</td>\n",
       "      <td>398.70</td>\n",
       "      <td>0</td>\n",
       "      <td>493.89</td>\n",
       "      <td>1</td>\n",
       "    </tr>\n",
       "    <tr>\n",
       "      <th>1</th>\n",
       "      <td>100003</td>\n",
       "      <td>M</td>\n",
       "      <td>59</td>\n",
       "      <td>4.04</td>\n",
       "      <td>EMERGENCY</td>\n",
       "      <td>EMERGENCY ROOM ADMIT</td>\n",
       "      <td>UPPER GI BLEED</td>\n",
       "      <td>Private</td>\n",
       "      <td>NOT SPECIFIED</td>\n",
       "      <td>SINGLE</td>\n",
       "      <td>...</td>\n",
       "      <td>1.24</td>\n",
       "      <td>1.59</td>\n",
       "      <td>5.45</td>\n",
       "      <td>7.18</td>\n",
       "      <td>0.99</td>\n",
       "      <td>1.24</td>\n",
       "      <td>373.02</td>\n",
       "      <td>0</td>\n",
       "      <td>465.71</td>\n",
       "      <td>1</td>\n",
       "    </tr>\n",
       "    <tr>\n",
       "      <th>2</th>\n",
       "      <td>100006</td>\n",
       "      <td>F</td>\n",
       "      <td>48</td>\n",
       "      <td>12.04</td>\n",
       "      <td>EMERGENCY</td>\n",
       "      <td>EMERGENCY ROOM ADMIT</td>\n",
       "      <td>COPD FLARE</td>\n",
       "      <td>Private</td>\n",
       "      <td>NOT SPECIFIED</td>\n",
       "      <td>SINGLE</td>\n",
       "      <td>...</td>\n",
       "      <td>0.33</td>\n",
       "      <td>0.15</td>\n",
       "      <td>4.15</td>\n",
       "      <td>6.23</td>\n",
       "      <td>0.00</td>\n",
       "      <td>0.33</td>\n",
       "      <td>286.21</td>\n",
       "      <td>0</td>\n",
       "      <td>344.00</td>\n",
       "      <td>3</td>\n",
       "    </tr>\n",
       "    <tr>\n",
       "      <th>3</th>\n",
       "      <td>100007</td>\n",
       "      <td>F</td>\n",
       "      <td>73</td>\n",
       "      <td>7.29</td>\n",
       "      <td>EMERGENCY</td>\n",
       "      <td>EMERGENCY ROOM ADMIT</td>\n",
       "      <td>BOWEL OBSTRUCTION</td>\n",
       "      <td>Private</td>\n",
       "      <td>JEWISH</td>\n",
       "      <td>MARRIED</td>\n",
       "      <td>...</td>\n",
       "      <td>0.69</td>\n",
       "      <td>0.17</td>\n",
       "      <td>9.05</td>\n",
       "      <td>11.52</td>\n",
       "      <td>0.00</td>\n",
       "      <td>0.96</td>\n",
       "      <td>526.06</td>\n",
       "      <td>0</td>\n",
       "      <td>603.05</td>\n",
       "      <td>1</td>\n",
       "    </tr>\n",
       "    <tr>\n",
       "      <th>4</th>\n",
       "      <td>100009</td>\n",
       "      <td>M</td>\n",
       "      <td>60</td>\n",
       "      <td>4.88</td>\n",
       "      <td>EMERGENCY</td>\n",
       "      <td>TRANSFER FROM HOSP/EXTRAM</td>\n",
       "      <td>CORONARY ARTERY DISEASE</td>\n",
       "      <td>Private</td>\n",
       "      <td>CATHOLIC</td>\n",
       "      <td>MARRIED</td>\n",
       "      <td>...</td>\n",
       "      <td>0.61</td>\n",
       "      <td>0.34</td>\n",
       "      <td>16.19</td>\n",
       "      <td>25.00</td>\n",
       "      <td>2.87</td>\n",
       "      <td>2.05</td>\n",
       "      <td>554.92</td>\n",
       "      <td>0</td>\n",
       "      <td>679.84</td>\n",
       "      <td>1</td>\n",
       "    </tr>\n",
       "  </tbody>\n",
       "</table>\n",
       "<p>5 rows × 28 columns</p>\n",
       "</div>"
      ],
      "text/plain": [
       "   hadm_id gender  age  LOSdays admit_type             admit_location  \\\n",
       "0   100001      F   35     6.17  EMERGENCY  CLINIC REFERRAL/PREMATURE   \n",
       "1   100003      M   59     4.04  EMERGENCY       EMERGENCY ROOM ADMIT   \n",
       "2   100006      F   48    12.04  EMERGENCY       EMERGENCY ROOM ADMIT   \n",
       "3   100007      F   73     7.29  EMERGENCY       EMERGENCY ROOM ADMIT   \n",
       "4   100009      M   60     4.88  EMERGENCY  TRANSFER FROM HOSP/EXTRAM   \n",
       "\n",
       "            AdmitDiagnosis insurance           religion marital_status  ...  \\\n",
       "0    DIABETIC KETOACIDOSIS   Private  PROTESTANT QUAKER       DIVORCED  ...   \n",
       "1           UPPER GI BLEED   Private      NOT SPECIFIED         SINGLE  ...   \n",
       "2               COPD FLARE   Private      NOT SPECIFIED         SINGLE  ...   \n",
       "3        BOWEL OBSTRUCTION   Private             JEWISH        MARRIED  ...   \n",
       "4  CORONARY ARTERY DISEASE   Private           CATHOLIC        MARRIED  ...   \n",
       "\n",
       "  NumMicroLabs  NumNotes  NumOutput  NumRx NumProcEvents  NumTransfers  \\\n",
       "0         0.65      0.05       5.19  14.91          1.13          0.65   \n",
       "1         1.24      1.59       5.45   7.18          0.99          1.24   \n",
       "2         0.33      0.15       4.15   6.23          0.00          0.33   \n",
       "3         0.69      0.17       9.05  11.52          0.00          0.96   \n",
       "4         0.61      0.34      16.19  25.00          2.87          2.05   \n",
       "\n",
       "   NumChartEvents  ExpiredHospital  TotalNumInteract  LOSgroupNum  \n",
       "0          398.70                0            493.89            1  \n",
       "1          373.02                0            465.71            1  \n",
       "2          286.21                0            344.00            3  \n",
       "3          526.06                0            603.05            1  \n",
       "4          554.92                0            679.84            1  \n",
       "\n",
       "[5 rows x 28 columns]"
      ]
     },
     "execution_count": 7,
     "metadata": {},
     "output_type": "execute_result"
    }
   ],
   "source": [
    "df = pd.read_csv('/Users/maximascientia/Downloads/mimic3d.csv')\n",
    "print(df.shape)\n",
    "df.head()"
   ]
  },
  {
   "cell_type": "code",
   "execution_count": 8,
   "metadata": {},
   "outputs": [
    {
     "name": "stdout",
     "output_type": "stream",
     "text": [
      "[['na']]\n"
     ]
    }
   ],
   "source": [
    "def sent_to_words(sentences):\n",
    "    for sent in sentences:\n",
    "        sent = re.sub('\\S*@\\S*\\s?', '', sent)  # remove emails\n",
    "        sent = re.sub('\\s+', ' ', sent)  # remove newline chars\n",
    "        sent = re.sub(\"\\'\", \"\", sent)  # remove single quotes\n",
    "        sent = gensim.utils.simple_preprocess(str(sent), deacc=True) \n",
    "        yield(sent)  \n",
    "\n",
    "# Convert to list\n",
    "df['AdmitProcedure'] = df['AdmitProcedure'].apply(str)\n",
    "data = df.AdmitProcedure.values.tolist()\n",
    "data_words = list(sent_to_words(data))\n",
    "print(data_words[:1])"
   ]
  },
  {
   "cell_type": "code",
   "execution_count": 9,
   "metadata": {},
   "outputs": [],
   "source": [
    "bigram = gensim.models.Phrases(data_words, min_count=5, threshold=100) # higher threshold fewer phrases.\n",
    "trigram = gensim.models.Phrases(bigram[data_words], threshold=100)  \n",
    "bigram_mod = gensim.models.phrases.Phraser(bigram)\n",
    "trigram_mod = gensim.models.phrases.Phraser(trigram)"
   ]
  },
  {
   "cell_type": "code",
   "execution_count": 10,
   "metadata": {},
   "outputs": [
    {
     "name": "stdout",
     "output_type": "stream",
     "text": [
      "Collecting en-core-web-sm==3.2.0\n",
      "  Downloading https://github.com/explosion/spacy-models/releases/download/en_core_web_sm-3.2.0/en_core_web_sm-3.2.0-py3-none-any.whl (13.9 MB)\n",
      "\u001b[K     |████████████████████████████████| 13.9 MB 2.4 MB/s eta 0:00:01\n",
      "\u001b[?25hRequirement already satisfied: spacy<3.3.0,>=3.2.0 in ./opt/anaconda3/lib/python3.8/site-packages (from en-core-web-sm==3.2.0) (3.2.0)\n",
      "Requirement already satisfied: wasabi<1.1.0,>=0.8.1 in ./opt/anaconda3/lib/python3.8/site-packages (from spacy<3.3.0,>=3.2.0->en-core-web-sm==3.2.0) (0.8.2)\n",
      "Requirement already satisfied: spacy-legacy<3.1.0,>=3.0.8 in ./opt/anaconda3/lib/python3.8/site-packages (from spacy<3.3.0,>=3.2.0->en-core-web-sm==3.2.0) (3.0.8)\n",
      "Requirement already satisfied: preshed<3.1.0,>=3.0.2 in ./opt/anaconda3/lib/python3.8/site-packages (from spacy<3.3.0,>=3.2.0->en-core-web-sm==3.2.0) (3.0.6)\n",
      "Requirement already satisfied: catalogue<2.1.0,>=2.0.6 in ./opt/anaconda3/lib/python3.8/site-packages (from spacy<3.3.0,>=3.2.0->en-core-web-sm==3.2.0) (2.0.6)\n",
      "Requirement already satisfied: jinja2 in ./opt/anaconda3/lib/python3.8/site-packages (from spacy<3.3.0,>=3.2.0->en-core-web-sm==3.2.0) (2.11.3)\n",
      "Requirement already satisfied: tqdm<5.0.0,>=4.38.0 in ./opt/anaconda3/lib/python3.8/site-packages (from spacy<3.3.0,>=3.2.0->en-core-web-sm==3.2.0) (4.62.3)\n",
      "Requirement already satisfied: numpy>=1.15.0 in ./opt/anaconda3/lib/python3.8/site-packages (from spacy<3.3.0,>=3.2.0->en-core-web-sm==3.2.0) (1.21.4)\n",
      "Requirement already satisfied: requests<3.0.0,>=2.13.0 in ./opt/anaconda3/lib/python3.8/site-packages (from spacy<3.3.0,>=3.2.0->en-core-web-sm==3.2.0) (2.26.0)\n",
      "Requirement already satisfied: blis<0.8.0,>=0.4.0 in ./opt/anaconda3/lib/python3.8/site-packages (from spacy<3.3.0,>=3.2.0->en-core-web-sm==3.2.0) (0.7.5)\n",
      "Requirement already satisfied: srsly<3.0.0,>=2.4.1 in ./opt/anaconda3/lib/python3.8/site-packages (from spacy<3.3.0,>=3.2.0->en-core-web-sm==3.2.0) (2.4.2)\n",
      "Requirement already satisfied: thinc<8.1.0,>=8.0.12 in ./opt/anaconda3/lib/python3.8/site-packages (from spacy<3.3.0,>=3.2.0->en-core-web-sm==3.2.0) (8.0.13)\n",
      "Requirement already satisfied: spacy-loggers<2.0.0,>=1.0.0 in ./opt/anaconda3/lib/python3.8/site-packages (from spacy<3.3.0,>=3.2.0->en-core-web-sm==3.2.0) (1.0.1)\n",
      "Requirement already satisfied: cymem<2.1.0,>=2.0.2 in ./opt/anaconda3/lib/python3.8/site-packages (from spacy<3.3.0,>=3.2.0->en-core-web-sm==3.2.0) (2.0.6)\n",
      "Requirement already satisfied: packaging>=20.0 in ./opt/anaconda3/lib/python3.8/site-packages (from spacy<3.3.0,>=3.2.0->en-core-web-sm==3.2.0) (21.3)\n",
      "Requirement already satisfied: setuptools in ./opt/anaconda3/lib/python3.8/site-packages (from spacy<3.3.0,>=3.2.0->en-core-web-sm==3.2.0) (58.0.4)\n",
      "Requirement already satisfied: langcodes<4.0.0,>=3.2.0 in ./opt/anaconda3/lib/python3.8/site-packages (from spacy<3.3.0,>=3.2.0->en-core-web-sm==3.2.0) (3.3.0)\n",
      "Requirement already satisfied: murmurhash<1.1.0,>=0.28.0 in ./opt/anaconda3/lib/python3.8/site-packages (from spacy<3.3.0,>=3.2.0->en-core-web-sm==3.2.0) (1.0.6)\n",
      "Requirement already satisfied: typer<0.5.0,>=0.3.0 in ./opt/anaconda3/lib/python3.8/site-packages (from spacy<3.3.0,>=3.2.0->en-core-web-sm==3.2.0) (0.4.0)\n",
      "Requirement already satisfied: pydantic!=1.8,!=1.8.1,<1.9.0,>=1.7.4 in ./opt/anaconda3/lib/python3.8/site-packages (from spacy<3.3.0,>=3.2.0->en-core-web-sm==3.2.0) (1.8.2)\n",
      "Requirement already satisfied: pathy>=0.3.5 in ./opt/anaconda3/lib/python3.8/site-packages (from spacy<3.3.0,>=3.2.0->en-core-web-sm==3.2.0) (0.6.1)\n",
      "Requirement already satisfied: pyparsing!=3.0.5,>=2.0.2 in ./opt/anaconda3/lib/python3.8/site-packages (from packaging>=20.0->spacy<3.3.0,>=3.2.0->en-core-web-sm==3.2.0) (3.0.4)\n",
      "Requirement already satisfied: smart-open<6.0.0,>=5.0.0 in ./opt/anaconda3/lib/python3.8/site-packages (from pathy>=0.3.5->spacy<3.3.0,>=3.2.0->en-core-web-sm==3.2.0) (5.2.1)\n",
      "Requirement already satisfied: typing-extensions>=3.7.4.3 in ./opt/anaconda3/lib/python3.8/site-packages (from pydantic!=1.8,!=1.8.1,<1.9.0,>=1.7.4->spacy<3.3.0,>=3.2.0->en-core-web-sm==3.2.0) (3.10.0.2)\n",
      "Requirement already satisfied: certifi>=2017.4.17 in ./opt/anaconda3/lib/python3.8/site-packages (from requests<3.0.0,>=2.13.0->spacy<3.3.0,>=3.2.0->en-core-web-sm==3.2.0) (2021.10.8)\n",
      "Requirement already satisfied: charset-normalizer~=2.0.0 in ./opt/anaconda3/lib/python3.8/site-packages (from requests<3.0.0,>=2.13.0->spacy<3.3.0,>=3.2.0->en-core-web-sm==3.2.0) (2.0.4)\n",
      "Requirement already satisfied: urllib3<1.27,>=1.21.1 in ./opt/anaconda3/lib/python3.8/site-packages (from requests<3.0.0,>=2.13.0->spacy<3.3.0,>=3.2.0->en-core-web-sm==3.2.0) (1.26.7)\n",
      "Requirement already satisfied: idna<4,>=2.5 in ./opt/anaconda3/lib/python3.8/site-packages (from requests<3.0.0,>=2.13.0->spacy<3.3.0,>=3.2.0->en-core-web-sm==3.2.0) (3.3)\n",
      "Requirement already satisfied: click<9.0.0,>=7.1.1 in ./opt/anaconda3/lib/python3.8/site-packages (from typer<0.5.0,>=0.3.0->spacy<3.3.0,>=3.2.0->en-core-web-sm==3.2.0) (8.0.3)\n",
      "Requirement already satisfied: MarkupSafe>=0.23 in ./opt/anaconda3/lib/python3.8/site-packages (from jinja2->spacy<3.3.0,>=3.2.0->en-core-web-sm==3.2.0) (1.1.1)\n",
      "\u001b[38;5;2m✔ Download and installation successful\u001b[0m\n",
      "You can now load the package via spacy.load('en_core_web_sm')\n"
     ]
    }
   ],
   "source": [
    "!python3 -m spacy download en_core_web_sm\n",
    "def process_words(texts, stop_words=stop_words, allowed_postags=['NOUN', 'ADJ', 'VERB', 'ADV']):\n",
    "    \"\"\"Remove Stopwords, Form Bigrams, Trigrams and Lemmatization\"\"\"\n",
    "    texts = [[word for word in simple_preprocess(str(doc)) if word not in stop_words] for doc in texts]\n",
    "    texts = [bigram_mod[doc] for doc in texts]\n",
    "    texts = [trigram_mod[bigram_mod[doc]] for doc in texts]\n",
    "    texts_out = []\n",
    "    nlp = spacy.load(\"en_core_web_sm\")\n",
    "    for sent in texts:\n",
    "        doc = nlp(\" \".join(sent)) \n",
    "        texts_out.append([token.lemma_ for token in doc if token.pos_ in allowed_postags])\n",
    "    # remove stopwords once more after lemmatization\n",
    "    texts_out = [[word for word in simple_preprocess(str(doc)) if word not in stop_words] for doc in texts_out]    \n",
    "    return texts_out"
   ]
  },
  {
   "cell_type": "code",
   "execution_count": 11,
   "metadata": {},
   "outputs": [],
   "source": [
    "data_ready = process_words(data_words)"
   ]
  },
  {
   "cell_type": "code",
   "execution_count": 28,
   "metadata": {},
   "outputs": [
    {
     "name": "stdout",
     "output_type": "stream",
     "text": [
      "[(0,\n",
      "  '0.197*\"nec\" + 0.114*\"art\" + 0.112*\"cor\" + 0.064*\"vaccination\" + '\n",
      "  '0.061*\"cath\" + 0.043*\"venous\" + 0.040*\"bypass\" + 0.034*\"int\" + 0.032*\"mam\" '\n",
      "  '+ 0.030*\"tracheostomy\"'),\n",
      " (1,\n",
      "  '0.044*\"vent\" + 0.039*\"invasive\" + 0.036*\"valve\" + 0.031*\"percu\" + '\n",
      "  '0.031*\"brain\" + 0.030*\"excision\" + 0.026*\"endosc\" + 0.024*\"close\" + '\n",
      "  '0.023*\"phototherapy\" + 0.022*\"opn\"'),\n",
      " (2,\n",
      "  '0.089*\"tube\" + 0.083*\"insert\" + 0.080*\"endotracheal\" + 0.068*\"tis\" + '\n",
      "  '0.057*\"circumcision\" + 0.024*\"hemodialysis\" + 0.019*\"transfusion\" + '\n",
      "  '0.018*\"spinal\" + 0.018*\"tap\" + 0.018*\"meninge\"')]\n"
     ]
    }
   ],
   "source": [
    "# Create Dictionary\n",
    "id2word = corpora.Dictionary(data_ready)\n",
    "\n",
    "# Create Corpus: Term Document Frequency\n",
    "corpus = [id2word.doc2bow(text) for text in data_ready]\n",
    "\n",
    "# Build LDA model\n",
    "lda_model = gensim.models.ldamodel.LdaModel(corpus=corpus,\n",
    "                                           id2word=id2word,\n",
    "                                           num_topics=3, \n",
    "                                           random_state=100,\n",
    "                                           update_every=1,\n",
    "                                           chunksize=10,\n",
    "                                           passes=10,\n",
    "                                           alpha='symmetric',\n",
    "                                           iterations=100,\n",
    "                                           per_word_topics=True)\n",
    "\n",
    "pprint(lda_model.print_topics())"
   ]
  },
  {
   "cell_type": "code",
   "execution_count": 29,
   "metadata": {},
   "outputs": [
    {
     "name": "stderr",
     "output_type": "stream",
     "text": [
      "/Users/maximascientia/opt/anaconda3/lib/python3.8/site-packages/past/builtins/misc.py:45: DeprecationWarning: the imp module is deprecated in favour of importlib; see the module's documentation for alternative uses\n",
      "  from imp import reload\n"
     ]
    },
    {
     "name": "stdout",
     "output_type": "stream",
     "text": [
      "\n",
      "Coherence Score:  0.6821145710942993\n"
     ]
    }
   ],
   "source": [
    "coherence_model_lda = CoherenceModel(model=lda_model, texts=data_ready, dictionary=id2word, coherence='c_v')\n",
    "coherence_lda = coherence_model_lda.get_coherence()\n",
    "print('\\nCoherence Score: ', coherence_lda)"
   ]
  },
  {
   "cell_type": "code",
   "execution_count": 30,
   "metadata": {},
   "outputs": [
    {
     "name": "stdout",
     "output_type": "stream",
     "text": [
      "\n",
      "Perplexity:  -4.842962551329531\n"
     ]
    }
   ],
   "source": [
    "# Perplexity: measures the performance of the model. If it low, it is good.\n",
    "print('\\nPerplexity: ', lda_model.log_perplexity(corpus))"
   ]
  },
  {
   "cell_type": "code",
   "execution_count": 31,
   "metadata": {
    "scrolled": true
   },
   "outputs": [
    {
     "name": "stderr",
     "output_type": "stream",
     "text": [
      "/Users/maximascientia/opt/anaconda3/lib/python3.8/site-packages/pyLDAvis/_prepare.py:246: FutureWarning: In a future version of pandas all arguments of DataFrame.drop except for the argument 'labels' will be keyword-only\n",
      "  default_term_info = default_term_info.sort_values(\n"
     ]
    },
    {
     "data": {
      "text/html": [
       "\n",
       "<link rel=\"stylesheet\" type=\"text/css\" href=\"https://cdn.jsdelivr.net/gh/bmabey/pyLDAvis@3.3.1/pyLDAvis/js/ldavis.v1.0.0.css\">\n",
       "\n",
       "\n",
       "<div id=\"ldavis_el760521402914262927848576660504\"></div>\n",
       "<script type=\"text/javascript\">\n",
       "\n",
       "var ldavis_el760521402914262927848576660504_data = {\"mdsDat\": {\"x\": [-0.2657806261406561, -0.1166861074506843, 0.38246673359134026], \"y\": [0.28060741134856276, -0.3644234762807265, 0.08381606493216393], \"topics\": [1, 2, 3], \"cluster\": [1, 1, 1], \"Freq\": [39.83855165507196, 31.01856695852994, 29.142881386398102]}, \"tinfo\": {\"Term\": [\"nec\", \"art\", \"cor\", \"tube\", \"insert\", \"endotracheal\", \"tis\", \"vaccination\", \"cath\", \"circumcision\", \"vent\", \"venous\", \"bypass\", \"invasive\", \"valve\", \"mam\", \"percu\", \"brain\", \"tracheostomy\", \"excision\", \"temporary\", \"endosc\", \"ptca\", \"heart\", \"close\", \"hemodialysis\", \"phototherapy\", \"opn\", \"open\", \"resect\", \"nec\", \"art\", \"cor\", \"vaccination\", \"cath\", \"venous\", \"bypass\", \"mam\", \"tracheostomy\", \"temporary\", \"ptca\", \"heart\", \"resect\", \"bowel\", \"leave\", \"cardiac\", \"part\", \"card\", \"contr\", \"shunt\", \"thorac\", \"canal\", \"neck\", \"explor\", \"ultrasound\", \"endarter\", \"femor\", \"anast\", \"iliac\", \"jej\", \"small\", \"int\", \"vent\", \"invasive\", \"valve\", \"percu\", \"brain\", \"excision\", \"endosc\", \"close\", \"phototherapy\", \"opn\", \"open\", \"balloon\", \"le\", \"endovasc\", \"implan\", \"pulsation\", \"fix\", \"hd\", \"gast\", \"skin\", \"gastrostomy\", \"valvuloplasty\", \"mitral\", \"vessel\", \"repair\", \"esoph\", \"closure\", \"control\", \"femur\", \"incision\", \"int\", \"tube\", \"insert\", \"endotracheal\", \"tis\", \"circumcision\", \"hemodialysis\", \"transfusion\", \"spinal\", \"tap\", \"meninge\", \"cerebral\", \"incise\", \"cell\", \"pack\", \"ant\", \"thoracentesis\", \"bile\", \"parent\", \"stent\", \"catheterization\", \"inf\", \"agent\", \"thrombo\", \"partial\", \"total\", \"lesion\", \"laparotomy\", \"fus\", \"detoxification\", \"arterial\", \"replace\", \"lobectomy\"], \"Freq\": [7248.0, 4186.0, 4106.0, 2383.0, 2236.0, 2154.0, 1829.0, 2335.0, 2228.0, 1539.0, 1257.0, 1575.0, 1463.0, 1128.0, 1044.0, 1180.0, 884.0, 883.0, 1121.0, 860.0, 1074.0, 748.0, 890.0, 872.0, 683.0, 634.0, 650.0, 630.0, 599.0, 741.0, 7248.275209020178, 4185.6136413170625, 4105.837387354689, 2334.6675121734315, 2227.614306972021, 1575.1331253338367, 1463.0237288266358, 1179.7543285060674, 1121.040700206659, 1073.4922914074805, 889.6486086483553, 871.6506297305169, 740.5056163886903, 716.9444029866681, 499.87107796634103, 458.6447568230058, 420.12974056094566, 296.44458115367223, 289.0512398369707, 294.8136698555233, 249.5958727708018, 236.50149638156768, 195.3365359523338, 191.193600887075, 143.32504662711295, 125.55085887716174, 142.76275313208967, 122.24270337903054, 110.78052198489307, 101.15869988289576, 141.69954397210378, 1233.2273239222354, 1256.3890894313886, 1127.591850398384, 1044.0368266054172, 883.4926359988712, 882.6482624841641, 859.8023084320092, 748.0996350911663, 683.1325027252731, 649.6168978155912, 630.0253000180365, 598.7796419124438, 547.9584845447409, 536.9165417284568, 482.10022894366097, 470.58918973031734, 470.58918973031734, 422.81398721218017, 415.5438459602981, 415.03551604639364, 404.67440268275084, 399.20636453850426, 395.2410607103151, 370.572453929949, 362.99057679965745, 358.93046752349437, 340.9876636019907, 343.88638615057016, 334.7414318495085, 305.8521835430084, 306.22415566331307, 431.9442555976293, 2382.9400958484584, 2235.9084790142165, 2153.8166609981404, 1828.4359373489178, 1538.6292563668737, 633.6875074703216, 520.1873489431715, 487.1363366876271, 486.94011156201856, 483.4748699997787, 483.01495797107447, 483.01495797107447, 471.6997097248417, 470.23463223647343, 391.9836280687369, 370.59526466784376, 363.7938203478895, 318.23200392830614, 300.82220761924054, 287.04640748209783, 285.8111858421166, 285.2597221213213, 285.2597221213213, 254.28647752110084, 241.2554864588656, 251.0141055246391, 217.42139572989558, 209.52812986973, 205.70975319757034, 193.8050532882825, 195.63309467189492, 196.36951484722627], \"Total\": [7248.0, 4186.0, 4106.0, 2383.0, 2236.0, 2154.0, 1829.0, 2335.0, 2228.0, 1539.0, 1257.0, 1575.0, 1463.0, 1128.0, 1044.0, 1180.0, 884.0, 883.0, 1121.0, 860.0, 1074.0, 748.0, 890.0, 872.0, 683.0, 634.0, 650.0, 630.0, 599.0, 741.0, 7248.968399737155, 4186.282401656852, 4106.506183098989, 2335.336299887537, 2228.2867771480087, 1575.8013092381823, 1463.6913164740454, 1180.4215629798405, 1121.7100728256496, 1074.1616474887091, 890.3203302716707, 872.3189542046878, 741.1756667239072, 717.638105953022, 500.53896189580684, 459.329772356214, 420.79769399355735, 297.1123408156869, 289.7264897949927, 295.5042091396017, 250.28614300046502, 237.17069116444907, 196.0087847659014, 191.86361306708338, 143.9949369277381, 126.2200928538561, 143.5412294722751, 122.91229128620456, 111.45507345689248, 101.82804850101549, 142.72349590420347, 1665.508174626981, 1257.040174081845, 1128.2421459002135, 1044.6902526845347, 884.1431734637335, 883.3021685525757, 860.4543948011852, 748.7507688618205, 683.7873914536266, 650.2693767862826, 630.6839136726619, 599.4631520275675, 548.6085351992436, 537.5691957010754, 482.7503701302818, 471.23909194843714, 471.23909194843714, 423.464278351276, 416.19435960017177, 415.6864225626012, 405.3280896157173, 399.8581413591922, 395.8905801871813, 371.2219860302591, 363.6444243323149, 359.5815970060015, 341.6394100994375, 344.552447788871, 335.39129848996254, 306.50245639476265, 306.9031405355337, 1665.508174626981, 2383.597547290996, 2236.5640959099924, 2154.4717944144677, 1829.0940376759936, 1539.2861793235995, 634.3450162441795, 520.8425840287367, 487.79188896649106, 487.59566878048065, 484.12992505769466, 483.66993639013015, 483.66993639013015, 472.35493843516554, 470.8898740295808, 392.6405755219573, 371.2549385003395, 364.5331036508685, 318.8893066242973, 301.4787145655592, 287.7025591998213, 286.4666610759743, 285.91521128567734, 285.91521128567734, 254.942056990096, 241.91274958994438, 251.71776769998914, 218.08225003131736, 210.1831112252671, 206.36546781848998, 194.4606251262924, 196.3254613894355, 197.1527192006358], \"Category\": [\"Default\", \"Default\", \"Default\", \"Default\", \"Default\", \"Default\", \"Default\", \"Default\", \"Default\", \"Default\", \"Default\", \"Default\", \"Default\", \"Default\", \"Default\", \"Default\", \"Default\", \"Default\", \"Default\", \"Default\", \"Default\", \"Default\", \"Default\", \"Default\", \"Default\", \"Default\", \"Default\", \"Default\", \"Default\", \"Default\", \"Topic1\", \"Topic1\", \"Topic1\", \"Topic1\", \"Topic1\", \"Topic1\", \"Topic1\", \"Topic1\", \"Topic1\", \"Topic1\", \"Topic1\", \"Topic1\", \"Topic1\", \"Topic1\", \"Topic1\", \"Topic1\", \"Topic1\", \"Topic1\", \"Topic1\", \"Topic1\", \"Topic1\", \"Topic1\", \"Topic1\", \"Topic1\", \"Topic1\", \"Topic1\", \"Topic1\", \"Topic1\", \"Topic1\", \"Topic1\", \"Topic1\", \"Topic1\", \"Topic2\", \"Topic2\", \"Topic2\", \"Topic2\", \"Topic2\", \"Topic2\", \"Topic2\", \"Topic2\", \"Topic2\", \"Topic2\", \"Topic2\", \"Topic2\", \"Topic2\", \"Topic2\", \"Topic2\", \"Topic2\", \"Topic2\", \"Topic2\", \"Topic2\", \"Topic2\", \"Topic2\", \"Topic2\", \"Topic2\", \"Topic2\", \"Topic2\", \"Topic2\", \"Topic2\", \"Topic2\", \"Topic2\", \"Topic2\", \"Topic2\", \"Topic3\", \"Topic3\", \"Topic3\", \"Topic3\", \"Topic3\", \"Topic3\", \"Topic3\", \"Topic3\", \"Topic3\", \"Topic3\", \"Topic3\", \"Topic3\", \"Topic3\", \"Topic3\", \"Topic3\", \"Topic3\", \"Topic3\", \"Topic3\", \"Topic3\", \"Topic3\", \"Topic3\", \"Topic3\", \"Topic3\", \"Topic3\", \"Topic3\", \"Topic3\", \"Topic3\", \"Topic3\", \"Topic3\", \"Topic3\", \"Topic3\", \"Topic3\"], \"logprob\": [30.0, 29.0, 28.0, 27.0, 26.0, 25.0, 24.0, 23.0, 22.0, 21.0, 20.0, 19.0, 18.0, 17.0, 16.0, 15.0, 14.0, 13.0, 12.0, 11.0, 10.0, 9.0, 8.0, 7.0, 6.0, 5.0, 4.0, 3.0, 2.0, 1.0, -1.6235, -2.1727, -2.1919, -2.7564, -2.8034, -3.15, -3.2238, -3.439, -3.4901, -3.5334, -3.7212, -3.7417, -3.9047, -3.9371, -4.2977, -4.3838, -4.4715, -4.8202, -4.8455, -4.8257, -4.9922, -5.0461, -5.2373, -5.2588, -5.5469, -5.6794, -5.5509, -5.7061, -5.8045, -5.8954, -5.5584, -3.3947, -3.1258, -3.234, -3.311, -3.4779, -3.4789, -3.5051, -3.6443, -3.7351, -3.7854, -3.8161, -3.8669, -3.9556, -3.976, -4.0837, -4.1078, -4.1078, -4.2149, -4.2322, -4.2335, -4.2587, -4.2723, -4.2823, -4.3468, -4.3674, -4.3787, -4.43, -4.4215, -4.4485, -4.5387, -4.5375, -4.1935, -2.4233, -2.487, -2.5244, -2.6882, -2.8608, -3.7479, -3.9452, -4.0109, -4.0113, -4.0184, -4.0194, -4.0194, -4.0431, -4.0462, -4.2282, -4.2843, -4.3029, -4.4367, -4.4929, -4.5398, -4.5441, -4.546, -4.546, -4.661, -4.7136, -4.6739, -4.8176, -4.8546, -4.873, -4.9326, -4.9232, -4.9194], \"loglift\": [30.0, 29.0, 28.0, 27.0, 26.0, 25.0, 24.0, 23.0, 22.0, 21.0, 20.0, 19.0, 18.0, 17.0, 16.0, 15.0, 14.0, 13.0, 12.0, 11.0, 10.0, 9.0, 8.0, 7.0, 6.0, 5.0, 4.0, 3.0, 2.0, 1.0, 0.9202, 0.9202, 0.9202, 0.92, 0.92, 0.9199, 0.9199, 0.9198, 0.9197, 0.9197, 0.9196, 0.9196, 0.9194, 0.9194, 0.919, 0.9188, 0.9187, 0.9181, 0.918, 0.918, 0.9176, 0.9175, 0.9169, 0.9168, 0.9157, 0.915, 0.9149, 0.9149, 0.9143, 0.9137, 0.9131, 0.6198, 1.1701, 1.17, 1.17, 1.1698, 1.1698, 1.1698, 1.1697, 1.1696, 1.1696, 1.1695, 1.1694, 1.1694, 1.1694, 1.1692, 1.1692, 1.1692, 1.169, 1.169, 1.169, 1.169, 1.169, 1.1689, 1.1688, 1.1688, 1.1688, 1.1687, 1.1686, 1.1686, 1.1685, 1.1684, -0.179, 1.2327, 1.2327, 1.2327, 1.2326, 1.2325, 1.2319, 1.2317, 1.2316, 1.2316, 1.2316, 1.2316, 1.2316, 1.2316, 1.2316, 1.2313, 1.2312, 1.2309, 1.2309, 1.2308, 1.2307, 1.2307, 1.2307, 1.2307, 1.2304, 1.2302, 1.2302, 1.2299, 1.2298, 1.2298, 1.2296, 1.2294, 1.229]}, \"token.table\": {\"Topic\": [3, 1, 3, 1, 3, 2, 3, 1, 2, 1, 1, 1, 1, 1, 3, 3, 3, 3, 2, 2, 1, 2, 1, 3, 1, 2, 3, 2, 2, 2, 1, 1, 2, 2, 3, 2, 2, 2, 1, 3, 1, 2, 3, 2, 3, 3, 1, 2, 2, 1, 3, 2, 1, 3, 3, 1, 3, 2, 1, 1, 2, 2, 3, 3, 1, 3, 2, 2, 1, 2, 2, 3, 1, 1, 2, 1, 3, 3, 3, 3, 1, 1, 3, 3, 3, 3, 1, 3, 3, 1, 1, 2, 2, 1, 2, 2], \"Freq\": [0.9967990115616377, 0.992577704990624, 0.9983685447661497, 0.9999325411833803, 0.9976312678929565, 0.9988907660741686, 0.9985375713603802, 0.999110824874364, 0.9996579103240844, 0.9995276897073416, 0.9992803024538529, 0.996256160842619, 0.9992820575193235, 0.9998713015079793, 0.9975580363213477, 0.9992485768512521, 0.9986148893290118, 0.9998140830942006, 0.998848484977249, 0.9983966220747631, 0.9974924978537284, 0.9988333075672378, 0.9998767363114971, 0.9982290262883933, 0.9982562771989802, 0.9989973047200182, 0.9997810162028156, 0.9984456353082043, 0.9981284064995564, 0.9994719129753643, 0.9954988178671408, 0.9962294493765665, 0.9983606774292356, 0.9989036186167022, 0.99912880143319, 0.9983487010271599, 0.9978538854898009, 0.9995330076064498, 0.9996343605705799, 0.9994561063217264, 0.995916978538725, 0.9994926313361471, 0.9986148893290118, 0.9970572457031305, 0.9983709759655051, 0.9997477845991429, 0.7403145891350257, 0.25938029400351265, 0.9997853777213577, 0.9918681688080546, 0.9950374226643299, 0.9989411675638649, 0.9989232368769746, 0.9971485219078988, 0.994153166107424, 0.9996428708242365, 0.9976660706161471, 0.9994020127077253, 0.9998664086137843, 0.9948533696226615, 0.9992273886626709, 0.9989155999418484, 0.998110228996929, 0.9972112372355431, 0.9981043289805444, 0.9963048192157146, 0.9987070267598686, 0.9995857458525668, 0.9996402078434253, 0.9994926313361471, 0.998382572937981, 0.9983422354536587, 0.9997629890837031, 0.9982937327997129, 0.9991905579106832, 0.9949307862757995, 0.007006554832928165, 0.9983765843910015, 0.9984121115606818, 0.9987783550621554, 0.9989185543056531, 0.9988567365454807, 0.9993133061034304, 0.9967990115616377, 0.9994018690928632, 0.9962269471473019, 0.9993669729434979, 0.9983822673979165, 0.9997493086483181, 0.9930904728390735, 0.9998559950926327, 0.9993392752705781, 0.9977504385510759, 0.9994914909427448, 0.9991725212103069, 0.9982278723687347], \"Term\": [\"agent\", \"anast\", \"ant\", \"art\", \"arterial\", \"balloon\", \"bile\", \"bowel\", \"brain\", \"bypass\", \"canal\", \"card\", \"cardiac\", \"cath\", \"catheterization\", \"cell\", \"cerebral\", \"circumcision\", \"close\", \"closure\", \"contr\", \"control\", \"cor\", \"detoxification\", \"endarter\", \"endosc\", \"endotracheal\", \"endovasc\", \"esoph\", \"excision\", \"explor\", \"femor\", \"femur\", \"fix\", \"fus\", \"gast\", \"gastrostomy\", \"hd\", \"heart\", \"hemodialysis\", \"iliac\", \"implan\", \"incise\", \"incision\", \"inf\", \"insert\", \"int\", \"int\", \"invasive\", \"jej\", \"laparotomy\", \"le\", \"leave\", \"lesion\", \"lobectomy\", \"mam\", \"meninge\", \"mitral\", \"nec\", \"neck\", \"open\", \"opn\", \"pack\", \"parent\", \"part\", \"partial\", \"percu\", \"phototherapy\", \"ptca\", \"pulsation\", \"repair\", \"replace\", \"resect\", \"shunt\", \"skin\", \"small\", \"small\", \"spinal\", \"stent\", \"tap\", \"temporary\", \"thorac\", \"thoracentesis\", \"thrombo\", \"tis\", \"total\", \"tracheostomy\", \"transfusion\", \"tube\", \"ultrasound\", \"vaccination\", \"valve\", \"valvuloplasty\", \"venous\", \"vent\", \"vessel\"]}, \"R\": 30, \"lambda.step\": 0.01, \"plot.opts\": {\"xlab\": \"PC1\", \"ylab\": \"PC2\"}, \"topic.order\": [1, 2, 3]};\n",
       "\n",
       "function LDAvis_load_lib(url, callback){\n",
       "  var s = document.createElement('script');\n",
       "  s.src = url;\n",
       "  s.async = true;\n",
       "  s.onreadystatechange = s.onload = callback;\n",
       "  s.onerror = function(){console.warn(\"failed to load library \" + url);};\n",
       "  document.getElementsByTagName(\"head\")[0].appendChild(s);\n",
       "}\n",
       "\n",
       "if(typeof(LDAvis) !== \"undefined\"){\n",
       "   // already loaded: just create the visualization\n",
       "   !function(LDAvis){\n",
       "       new LDAvis(\"#\" + \"ldavis_el760521402914262927848576660504\", ldavis_el760521402914262927848576660504_data);\n",
       "   }(LDAvis);\n",
       "}else if(typeof define === \"function\" && define.amd){\n",
       "   // require.js is available: use it to load d3/LDAvis\n",
       "   require.config({paths: {d3: \"https://d3js.org/d3.v5\"}});\n",
       "   require([\"d3\"], function(d3){\n",
       "      window.d3 = d3;\n",
       "      LDAvis_load_lib(\"https://cdn.jsdelivr.net/gh/bmabey/pyLDAvis@3.3.1/pyLDAvis/js/ldavis.v3.0.0.js\", function(){\n",
       "        new LDAvis(\"#\" + \"ldavis_el760521402914262927848576660504\", ldavis_el760521402914262927848576660504_data);\n",
       "      });\n",
       "    });\n",
       "}else{\n",
       "    // require.js not available: dynamically load d3 & LDAvis\n",
       "    LDAvis_load_lib(\"https://d3js.org/d3.v5.js\", function(){\n",
       "         LDAvis_load_lib(\"https://cdn.jsdelivr.net/gh/bmabey/pyLDAvis@3.3.1/pyLDAvis/js/ldavis.v3.0.0.js\", function(){\n",
       "                 new LDAvis(\"#\" + \"ldavis_el760521402914262927848576660504\", ldavis_el760521402914262927848576660504_data);\n",
       "            })\n",
       "         });\n",
       "}\n",
       "</script>"
      ],
      "text/plain": [
       "PreparedData(topic_coordinates=              x         y  topics  cluster       Freq\n",
       "topic                                                \n",
       "0     -0.265781  0.280607       1        1  39.838552\n",
       "1     -0.116686 -0.364423       2        1  31.018567\n",
       "2      0.382467  0.083816       3        1  29.142881, topic_info=               Term         Freq        Total Category  logprob  loglift\n",
       "6               nec  7248.000000  7248.000000  Default  30.0000  30.0000\n",
       "9               art  4186.000000  4186.000000  Default  29.0000  29.0000\n",
       "10              cor  4106.000000  4106.000000  Default  28.0000  28.0000\n",
       "29             tube  2383.000000  2383.000000  Default  27.0000  27.0000\n",
       "28           insert  2236.000000  2236.000000  Default  26.0000  26.0000\n",
       "..              ...          ...          ...      ...      ...      ...\n",
       "239             fus   209.528130   210.183111   Topic3  -4.8546   1.2298\n",
       "184  detoxification   205.709753   206.365468   Topic3  -4.8730   1.2298\n",
       "166        arterial   193.805053   194.460625   Topic3  -4.9326   1.2296\n",
       "279         replace   195.633095   196.325461   Topic3  -4.9232   1.2294\n",
       "214       lobectomy   196.369515   197.152719   Topic3  -4.9194   1.2290\n",
       "\n",
       "[125 rows x 6 columns], token_table=      Topic      Freq           Term\n",
       "term                                \n",
       "176       3  0.996799          agent\n",
       "126       1  0.992578          anast\n",
       "21        3  0.998369            ant\n",
       "9         1  0.999933            art\n",
       "166       3  0.997631       arterial\n",
       "...     ...       ...            ...\n",
       "169       2  0.999339          valve\n",
       "35        2  0.997750  valvuloplasty\n",
       "43        1  0.999491         venous\n",
       "4         2  0.999173           vent\n",
       "84        2  0.998228         vessel\n",
       "\n",
       "[96 rows x 3 columns], R=30, lambda_step=0.01, plot_opts={'xlab': 'PC1', 'ylab': 'PC2'}, topic_order=[1, 2, 3])"
      ]
     },
     "execution_count": 31,
     "metadata": {},
     "output_type": "execute_result"
    }
   ],
   "source": [
    "import pyLDAvis.gensim_models\n",
    "pyLDAvis.enable_notebook()\n",
    "vis = pyLDAvis.gensim_models.prepare(lda_model, corpus, dictionary=lda_model.id2word)\n",
    "vis"
   ]
  },
  {
   "cell_type": "code",
   "execution_count": 38,
   "metadata": {},
   "outputs": [],
   "source": [
    "from gensim.models import LdaModel\n",
    "topic_model_class = lda_model\n",
    "ensemble_workers = 4\n",
    "num_models=8\n",
    "distance_workers = 4\n",
    "num_topics=3\n",
    "passes = 2"
   ]
  },
  {
   "cell_type": "code",
   "execution_count": 39,
   "metadata": {},
   "outputs": [
    {
     "name": "stderr",
     "output_type": "stream",
     "text": [
      "/Users/maximascientia/opt/anaconda3/lib/python3.8/site-packages/past/builtins/misc.py:45: DeprecationWarning: the imp module is deprecated in favour of importlib; see the module's documentation for alternative uses\n",
      "  from imp import reload\n",
      "/Users/maximascientia/opt/anaconda3/lib/python3.8/site-packages/past/builtins/misc.py:45: DeprecationWarning: the imp module is deprecated in favour of importlib; see the module's documentation for alternative uses\n",
      "  from imp import reload\n",
      "/Users/maximascientia/opt/anaconda3/lib/python3.8/site-packages/past/builtins/misc.py:45: DeprecationWarning: the imp module is deprecated in favour of importlib; see the module's documentation for alternative uses\n",
      "  from imp import reload\n",
      "/Users/maximascientia/opt/anaconda3/lib/python3.8/site-packages/past/builtins/misc.py:45: DeprecationWarning: the imp module is deprecated in favour of importlib; see the module's documentation for alternative uses\n",
      "  from imp import reload\n",
      "/Users/maximascientia/opt/anaconda3/lib/python3.8/site-packages/past/builtins/misc.py:45: DeprecationWarning: the imp module is deprecated in favour of importlib; see the module's documentation for alternative uses\n",
      "  from imp import reload\n"
     ]
    },
    {
     "name": "stdout",
     "output_type": "stream",
     "text": [
      "24\n",
      "2\n"
     ]
    }
   ],
   "source": [
    "from gensim.models import EnsembleLda\n",
    "ensemble = EnsembleLda(\n",
    "    corpus=corpus,\n",
    "    id2word=id2word,\n",
    "    num_topics=num_topics,\n",
    "    passes=passes,\n",
    "    num_models=num_models,\n",
    "    topic_model_class=LdaModel,\n",
    "    ensemble_workers=ensemble_workers,\n",
    "    distance_workers=distance_workers\n",
    ")\n",
    "\n",
    "print(len(ensemble.ttda))\n",
    "print(len(ensemble.get_topics()))\n"
   ]
  },
  {
   "cell_type": "code",
   "execution_count": 40,
   "metadata": {},
   "outputs": [
    {
     "name": "stdout",
     "output_type": "stream",
     "text": [
      "0.011190262732312495 0.5089369141739286 1.0\n",
      "2\n"
     ]
    },
    {
     "name": "stderr",
     "output_type": "stream",
     "text": [
      "/Users/maximascientia/opt/anaconda3/lib/python3.8/site-packages/past/builtins/misc.py:45: DeprecationWarning: the imp module is deprecated in favour of importlib; see the module's documentation for alternative uses\n",
      "  from imp import reload\n",
      "/Users/maximascientia/opt/anaconda3/lib/python3.8/site-packages/past/builtins/misc.py:45: DeprecationWarning: the imp module is deprecated in favour of importlib; see the module's documentation for alternative uses\n",
      "  from imp import reload\n",
      "/Users/maximascientia/opt/anaconda3/lib/python3.8/site-packages/past/builtins/misc.py:45: DeprecationWarning: the imp module is deprecated in favour of importlib; see the module's documentation for alternative uses\n",
      "  from imp import reload\n",
      "/Users/maximascientia/opt/anaconda3/lib/python3.8/site-packages/past/builtins/misc.py:45: DeprecationWarning: the imp module is deprecated in favour of importlib; see the module's documentation for alternative uses\n",
      "  from imp import reload\n",
      "/Users/maximascientia/opt/anaconda3/lib/python3.8/site-packages/past/builtins/misc.py:45: DeprecationWarning: the imp module is deprecated in favour of importlib; see the module's documentation for alternative uses\n",
      "  from imp import reload\n",
      "/Users/maximascientia/opt/anaconda3/lib/python3.8/site-packages/past/builtins/misc.py:45: DeprecationWarning: the imp module is deprecated in favour of importlib; see the module's documentation for alternative uses\n",
      "  from imp import reload\n"
     ]
    }
   ],
   "source": [
    "import numpy as np\n",
    "shape = ensemble.asymmetric_distance_matrix.shape\n",
    "without_diagonal = ensemble.asymmetric_distance_matrix[~np.eye(shape[0], dtype=bool)].reshape(shape[0], -1)\n",
    "print(without_diagonal.min(), without_diagonal.mean(), without_diagonal.max())\n",
    "\n",
    "ensemble.recluster(eps=0.09, min_samples=2, min_cores=2)\n",
    "\n",
    "print(len(ensemble.get_topics()))"
   ]
  },
  {
   "cell_type": "code",
   "execution_count": 41,
   "metadata": {},
   "outputs": [
    {
     "name": "stdout",
     "output_type": "stream",
     "text": [
      "44\n",
      "2\n"
     ]
    }
   ],
   "source": [
    "from gensim.models import LdaMulticore\n",
    "\n",
    "model1 = LdaMulticore(\n",
    "    corpus=corpus,\n",
    "    id2word=id2word,\n",
    "    num_topics=9,\n",
    "    passes=4,\n",
    ")\n",
    "\n",
    "model2 = LdaModel(\n",
    "    corpus=corpus,\n",
    "    id2word=id2word,\n",
    "    num_topics=11,\n",
    "    passes=2,\n",
    ")\n",
    "\n",
    "# add_model supports various types of input, check out its docstring\n",
    "ensemble.add_model(model1)\n",
    "ensemble.add_model(model2)\n",
    "\n",
    "ensemble.recluster()\n",
    "\n",
    "print(len(ensemble.ttda))\n",
    "print(len(ensemble.get_topics()))"
   ]
  },
  {
   "cell_type": "code",
   "execution_count": null,
   "metadata": {},
   "outputs": [],
   "source": []
  }
 ],
 "metadata": {
  "kernelspec": {
   "display_name": "Python 3 (ipykernel)",
   "language": "python",
   "name": "python3"
  },
  "language_info": {
   "codemirror_mode": {
    "name": "ipython",
    "version": 3
   },
   "file_extension": ".py",
   "mimetype": "text/x-python",
   "name": "python",
   "nbconvert_exporter": "python",
   "pygments_lexer": "ipython3",
   "version": "3.8.2"
  }
 },
 "nbformat": 4,
 "nbformat_minor": 4
}
